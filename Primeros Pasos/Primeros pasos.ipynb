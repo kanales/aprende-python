{
 "cells": [
  {
   "cell_type": "markdown",
   "metadata": {},
   "source": [
    "# Primeros pasos"
   ]
  },
  {
   "cell_type": "markdown",
   "metadata": {},
   "source": [
    "## Usar python como una calculadora\n",
    "\n",
    "En este capítulo introducimos los números. En python existen tres tipos de número principales: los enteros (`int`), decimales (`float`):"
   ]
  },
  {
   "cell_type": "code",
   "execution_count": null,
   "metadata": {},
   "outputs": [],
   "source": [
    "print(3)   # entero\n",
    "print(3.0) # float"
   ]
  },
  {
   "cell_type": "markdown",
   "metadata": {},
   "source": [
    "En la celda anterior aparece el símbolo `#`. Éste introduce lo que se conoce como comentario: todo código que va predecedido del `#` no se ejecuta y se suele utiliza para documentar y dar explicaciones del código. Volviendo a los números, Python proporciona una batería de operadores para trabajar con números (tanto `int`s como `float`s):"
   ]
  },
  {
   "cell_type": "code",
   "execution_count": null,
   "metadata": {},
   "outputs": [],
   "source": [
    "print(2 + 2)  # suma\n",
    "print(1 - 3)  # resta\n",
    "print(3 * 2)  # multiplicación\n",
    "print(8 / 5)  # división\n",
    "print(8 // 5) # división entera\n",
    "print(8 %  5) # \"módulo\": residuo de la división entera\n",
    "print(2 ** 3) # potencia"
   ]
  },
  {
   "cell_type": "markdown",
   "metadata": {},
   "source": [
    "Fíjate que por defecto la división devuelve un `float` aunque se usen `int`s como entrada."
   ]
  },
  {
   "cell_type": "markdown",
   "metadata": {},
   "source": [
    "Otro tipo básico de Python son los `bool`: `True` y `False`. Se suelen usar junto a otras construcciones de control de flujo que veremos más adelante (`if`, `while`, etc.) y normalmente se obtienen a partir de operadores de comparación:"
   ]
  },
  {
   "cell_type": "code",
   "execution_count": null,
   "metadata": {},
   "outputs": [],
   "source": [
    "print(3 < 1) # más pequeño que\n",
    "print(3 > 1) # más grande que\n",
    "print(3 == 3) # igualdad\n",
    "print(3 != 3) # desigualdada\n",
    "print(3 >= 3)\n",
    "print(1 <= 3)"
   ]
  },
  {
   "cell_type": "markdown",
   "metadata": {},
   "source": [
    "Además, se definen otras `keywords` (palabras reservadas) para trabajar con los booleanos: `and` y `or`. Se definen de manera tal que `x and y` es `True` si `x` e `y` lo son, y `x or y` es `True` si alguno de los dos lo es:"
   ]
  },
  {
   "cell_type": "code",
   "execution_count": null,
   "metadata": {},
   "outputs": [],
   "source": [
    "print(True and True)  # = True\n",
    "print(True and False) # = False\n",
    "print(True or False)  # = True\n",
    "print(False or False) # = False"
   ]
  },
  {
   "cell_type": "markdown",
   "metadata": {},
   "source": [
    "Otro detalle interesante es que se pueden definir operaciones que sean tanto aritméticas como booleanas con la profundidad que queramos usando los paréntesis `()` para agrupar expresiones:"
   ]
  },
  {
   "cell_type": "code",
   "execution_count": null,
   "metadata": {},
   "outputs": [],
   "source": [
    "print( (8 // 3) * 3 + (8 % 3) == 8 ) # propiedad de la división entera"
   ]
  },
  {
   "cell_type": "markdown",
   "metadata": {},
   "source": [
    "#### Ejercicio\n",
    "\n",
    "Dado el triángulo rectángulo\n",
    "\n",
    "![triangulo (3,4,5)](img/triangle.png)\n",
    "\n",
    "¿Cómo representarías la igualdad del teorema de pitágoras? Escribe una expresión con `int`s y una igualdad que evalue a `True`"
   ]
  },
  {
   "cell_type": "code",
   "execution_count": null,
   "metadata": {},
   "outputs": [],
   "source": [
    "# escribe aquí"
   ]
  },
  {
   "cell_type": "markdown",
   "metadata": {},
   "source": [
    "## None\n",
    "\n",
    "En Python todas las expresiones se evaluan a un valor. Sin embargo muchas veces nos encontramos en que hay veces en las que no tiene sentido que algo tenga un valor o queremos indicar que algo no existe (por ejemplo al buscar en un diccionario). En esos casos usar `0`, `-1` o `False` puede llevar a la confusión si son valores que, por ejemplo, podríamos encontrar en el diccionario. Para eso, Python define un objeto especial `None` que representa la ausencia de valor y se usa de manera habitual. Por ejemplo la función `print()` se evalua a `None` cuando se ejecuta;"
   ]
  },
  {
   "cell_type": "code",
   "execution_count": null,
   "metadata": {},
   "outputs": [],
   "source": [
    "print(\"Hello World!\") is None"
   ]
  },
  {
   "cell_type": "markdown",
   "metadata": {},
   "source": [
    "> Nota: con `None` se suele usar el operador `is` en lugar de `==`. Esto es porque `is` devuelve `True` si son _exactamente_ el mismo objeto, mientras que `==` devuelve `True` cuando se cumple una \"regla\" que dice que son iguales. Más adelante veremos ejemplos en los que no son equivalentes"
   ]
  },
  {
   "cell_type": "markdown",
   "metadata": {},
   "source": [
    "## Variables"
   ]
  },
  {
   "cell_type": "markdown",
   "metadata": {},
   "source": [
    "Una de las herramientas más habituales en los lenguajes de programación son las **variables**, que le permiten poner nombre a resultados de código y se introducen mediante el operador de asignación `=`, por ejemplo:"
   ]
  },
  {
   "cell_type": "code",
   "execution_count": null,
   "metadata": {},
   "outputs": [],
   "source": [
    "dividendo = 8\n",
    "divisor   = 3\n",
    "residuo   = dividendo % divisor\n",
    "quociente = dividendo // divisor\n",
    "\n",
    "print(divisor * quociente + residuo == dividendo)"
   ]
  },
  {
   "cell_type": "markdown",
   "metadata": {},
   "source": [
    "## Datos compuestos"
   ]
  },
  {
   "cell_type": "markdown",
   "metadata": {},
   "source": [
    "### Strings"
   ]
  },
  {
   "cell_type": "markdown",
   "metadata": {},
   "source": [
    "Hasta ahora hemos trabajado con números y booleanos, pero habitualmente queremos trabajar con objetos que estan compuestos de otros objetos. Un ejemplo son las `strings`, que representan cadenas de caracteres y son la representación habitual de \"texto\". Se definen mediante las comillas dobles `\"\"` o simples `''`:"
   ]
  },
  {
   "cell_type": "code",
   "execution_count": null,
   "metadata": {},
   "outputs": [],
   "source": [
    "print(\"esto es una string\")\n",
    "print('esto también')\n",
    "print(\"esto es un número:\", 3) # se pueden usar para escribir mensajes arbitrarios\n",
    "print(\"las comillas se pueden \\\"escapar\\\" con un backslash '\\\\'\")"
   ]
  },
  {
   "cell_type": "markdown",
   "metadata": {},
   "source": [
    "> Nota: además de las comillas y el backslash, hay más caracteres que se pueden escapar, por ejemplo '\\n' representa un salto de línea."
   ]
  },
  {
   "cell_type": "markdown",
   "metadata": {},
   "source": [
    "#### Ejercicio\n",
    "\n",
    "Las strings también se pueden comparar como los enteros, por ejemplo `\"abc\" == \"abc\"` es `True`. Prueba el resto de comparaciones. ¿Qué puede significar que una string es \"más pequeña\" que otra?"
   ]
  },
  {
   "cell_type": "markdown",
   "metadata": {},
   "source": [
    "### Tuplas\n",
    "\n",
    "Una tupla de n elementos es un objeto que agrupa varios objetos para formar uno más complejo. Se usan cuando queremos indicar que algo está hecho de un número **fijo** de piezas más pequeñas. Se definen escribiendo los valores separados por la coma, aunque habitualmente se suele poner entre paréntesis para evitar confusiones:"
   ]
  },
  {
   "cell_type": "code",
   "execution_count": null,
   "metadata": {},
   "outputs": [],
   "source": [
    "# los vectores en 3 dimensiones son un ejemplo típico\n",
    "# pues están compuestos de 3 `float`s\n",
    "x = (1., 2., 3.)\n",
    "print(\"x  =\", x)\n",
    "\n",
    "# las tuplas se pueden \"desconstruir\" con la asignacion\n",
    "x1, x2, x3 = x\n",
    "print(\"x1 =\", x1)\n",
    "\n",
    "# las tuplas pueden tener valores de distinto tipo\n",
    "y = (True, 1, 2.)\n",
    "print(\"y  =\", y)"
   ]
  },
  {
   "cell_type": "markdown",
   "metadata": {},
   "source": [
    "#### Ejercicio\n",
    "\n",
    "Hemos visto que las tuplas se pueden describir para definir vectores. ¿Cómo expresarias la suma de dos vectores? Entiende la suma de los vectores como el vector de las sumas de las componentes de los vectores."
   ]
  },
  {
   "cell_type": "code",
   "execution_count": null,
   "metadata": {},
   "outputs": [],
   "source": [
    "x = (1. , 2. ,  3.)\n",
    "y = (10., 20., 30.)\n",
    "\n",
    "# haz que z = x + y\n",
    "z = None\n",
    "\n",
    "print(z, \"== (11.0, 22.0, 33.0)\")"
   ]
  },
  {
   "cell_type": "markdown",
   "metadata": {},
   "source": [
    "### Listas\n",
    "\n",
    "Las listas son probablemente el objeto más usado en Python, y representa una cadena de longitud arbitraria (a diferencia de las tuplas). Para construir una lista se escriben los valores separados por comas entre corchetes `[]`:"
   ]
  },
  {
   "cell_type": "code",
   "execution_count": null,
   "metadata": {},
   "outputs": [],
   "source": [
    "lista = [1,2,3,4]\n",
    "print(lista)\n",
    "\n",
    "# Se pueden añadir objetos al final de la lista con `.append()`\n",
    "lista.append(5)\n",
    "print(lista)\n",
    "\n",
    "# Se pueden borrar elementos del final de la lista con `.pop()`\n",
    "el = lista.pop()\n",
    "print(lista, el)"
   ]
  },
  {
   "cell_type": "markdown",
   "metadata": {},
   "source": [
    "La notación `.append()` indica que se llama un **método** del objeto que precede al punto. Un método es un tipo de función que va asociada a un objeto y que veremos con más detalle en el capítulo en el que trataremos las **clases** de Python. A demás de `append()` y `pop()` existen otros métodos como `insert()` para insertar en una posición arbitraria, `sort()` para ordenar la lista, etc. La lista completa de métodos de `list` la puedes encontrar [aquí](https://docs.python.org/3/tutorial/datastructures.html)"
   ]
  },
  {
   "cell_type": "markdown",
   "metadata": {},
   "source": [
    "## Operaciones con datos compuestos"
   ]
  },
  {
   "cell_type": "markdown",
   "metadata": {},
   "source": [
    "Estas estructuras que hemos visto soportan una lista de operaciones comunes, como son la indexación y el **slicing** que nos permiten interactuar de manera cómoda con ellas.\n",
    "\n",
    "Una operación que realizamos habitualmente con colecciones de datos es mirar su número de elementos. En Python esto lo podemos hacer usando la función `len`(length):"
   ]
  },
  {
   "cell_type": "code",
   "execution_count": null,
   "metadata": {},
   "outputs": [],
   "source": [
    "print(\"len([1,2,3,4]) =\", len([1,2,3,4]))"
   ]
  },
  {
   "cell_type": "markdown",
   "metadata": {},
   "source": [
    "En Python se indexa usando el operador de índice `[]` y el índice del elemento que queremos manipular. Un detalle que hay que tener en cuenta es que el primer índice es siempre `0` (y por lo tanto el último índice es n-1 en una colección de n elementos). Veamos algunos ejemplos:"
   ]
  },
  {
   "cell_type": "code",
   "execution_count": null,
   "metadata": {},
   "outputs": [],
   "source": [
    "s = \"abcde\"\n",
    "\n",
    "print(\"primer elemento:\", s[0])\n",
    "print(\"último elemento:\", s[len(s) - 1])\n",
    "\n",
    "# los índices negativos indexan contando por el final\n",
    "print(\"último elemento:\", s[-1])\n",
    "\n",
    "print(\"esto también funciona con listas y tuplas:\", [1,2,3][0], (1,2,3)[0])"
   ]
  },
  {
   "cell_type": "markdown",
   "metadata": {},
   "source": [
    "A veces queremos indexar más de un elemento, y esto lo podemos hacer usando los operadores de **slicing**: "
   ]
  },
  {
   "cell_type": "code",
   "execution_count": null,
   "metadata": {},
   "outputs": [],
   "source": [
    "s = \"abcde\"\n",
    "\n",
    "print(\"primeros 2 elementos:\", s[0:2])\n",
    "print(\"últimos 2 elementos:\", s[-2:len(s)])\n",
    "\n",
    "# Cuando se hace slice desde el primer elemento o hasta el último elemento\n",
    "# podemos omitir los índices\n",
    "print(\"primeros 2 elementos.\", s[:2])\n",
    "print(\"últimos 2 elementos:\", s[-2:])\n",
    "print(\"todos los elementos:\", s[:])\n",
    "\n",
    "# Nota: esto también funciona con listas y tuplas\n",
    "print(\"primeros 2 elementos:\", [1,2,3][:2], (1,2,3)[:2])"
   ]
  },
  {
   "cell_type": "markdown",
   "metadata": {},
   "source": [
    "Las tuplas y strings sol colecciones mutables; una vez se construyen no se pueden modificar. Sin embargo se pueden **concatenar** entre ellas (esto crea un nuevo objeto) usando el operador suma `+`:"
   ]
  },
  {
   "cell_type": "code",
   "execution_count": null,
   "metadata": {},
   "outputs": [],
   "source": [
    "print(\"ab\" + \"cd\")\n",
    "print((1,2) + (3,4))\n",
    "print([1,2] + [3,4])"
   ]
  },
  {
   "cell_type": "markdown",
   "metadata": {},
   "source": [
    "Las listas en cambio son colecciones mutables (como ya hemos visto con `append()` y `pop()`) y permiten además de indexado, slicing y concatenación hacerlo de manera mutable, modificando la lista sobre la que se actua:"
   ]
  },
  {
   "cell_type": "code",
   "execution_count": null,
   "metadata": {},
   "outputs": [],
   "source": [
    "base = [1,2,3,4,5,6]\n",
    "print(base, '\\n')\n",
    "\n",
    "# indexado mutable\n",
    "base[0] = 8\n",
    "print(\"base[0] = 8\\n=>\", base, '\\n')\n",
    "\n",
    "# slicing mutable\n",
    "base[3:] = [40, 50, 60]\n",
    "print(\"base[3:] = [40, 50, 60]\\n=>\", base, '\\n')\n",
    "\n",
    "# concatenación mutable\n",
    "base.extend([1,2,3])\n",
    "print(\"base.extend([1,2,3])\\n=>\", base)"
   ]
  }
 ],
 "metadata": {
  "hide_input": false,
  "kernelspec": {
   "display_name": "Python 3",
   "language": "python",
   "name": "python3"
  },
  "language_info": {
   "codemirror_mode": {
    "name": "ipython",
    "version": 3
   },
   "file_extension": ".py",
   "mimetype": "text/x-python",
   "name": "python",
   "nbconvert_exporter": "python",
   "pygments_lexer": "ipython3",
   "version": "3.7.7"
  }
 },
 "nbformat": 4,
 "nbformat_minor": 2
}
